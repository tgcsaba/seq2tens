{
 "cells": [
  {
   "cell_type": "code",
   "execution_count": 1,
   "metadata": {},
   "outputs": [],
   "source": [
    "import os\n",
    "import glob\n",
    "import sys\n",
    "import json\n",
    "import yaml\n",
    "import numpy as np\n",
    "import pandas as pd\n",
    "\n",
    "from warnings import warn"
   ]
  },
  {
   "cell_type": "markdown",
   "metadata": {},
   "source": [
    "#### Load external baselines"
   ]
  },
  {
   "cell_type": "code",
   "execution_count": 2,
   "metadata": {},
   "outputs": [],
   "source": [
    "with open('./configs/ext_baselines.yaml', 'r') as f:\n",
    "    results_ext = yaml.load(f, Loader=yaml.SafeLoader)\n",
    "\n",
    "results_ext_mean = {k : {k2 : v2['mean'] for k2, v2 in v.items()} for k, v in results_ext.items()}\n",
    "results_ext_std = {k : {k2 : v2['std'] for k2, v2 in v.items()} for k, v in results_ext.items()}"
   ]
  },
  {
   "cell_type": "markdown",
   "metadata": {},
   "source": [
    "#### Parse experiment results"
   ]
  },
  {
   "cell_type": "code",
   "execution_count": 3,
   "metadata": {},
   "outputs": [],
   "source": [
    "result_dir = './evaluations/'\n",
    "tmp_dir = './tmp/'\n",
    "    \n",
    "result_ps = [p for p in glob.glob(os.path.join(result_dir, '*')) if os.path.basename(p) != '_sources']\n",
    "\n",
    "results = {}\n",
    "\n",
    "run_ids = {}\n",
    "\n",
    "for i, path in enumerate(result_ps):\n",
    "    run_id = os.path.basename(path)\n",
    "    met_fp = os.path.join(path, 'metrics.json')\n",
    "    with open(met_fp, 'r') as f:\n",
    "        mets = json.load(f)\n",
    "    if 'testing.final_loss' not in mets:\n",
    "        warn(f'Warning | run {run_id} has been interrupted.')\n",
    "        continue\n",
    "        \n",
    "    cfg_fp = os.path.join(path, 'config.json')\n",
    "    with open(cfg_fp, 'r') as f:\n",
    "        cfg = json.load(f)\n",
    "    cfg_name = 'FCN' if cfg['config_name'] == 'FCNBest' else 'FCNLS2T'\n",
    "    \n",
    "    if cfg_name not in results:\n",
    "        results[cfg_name] = {'accuracy' : [], 'auroc' : [], 'auprc' : []}\n",
    "    \n",
    "    for k in results[cfg_name]:\n",
    "        results[cfg_name][k].append(100*mets['testing.final_' + k]['values'][0])\n",
    "    \n",
    "    if cfg_name not in run_ids:\n",
    "        run_ids[cfg_name] = []\n",
    "    run_ids[cfg_name].append(os.path.basename(path))\n",
    "    "
   ]
  },
  {
   "cell_type": "code",
   "execution_count": 4,
   "metadata": {},
   "outputs": [],
   "source": [
    "results_mean = {k : {k2 : np.mean(v2) for k2, v2 in v.items()} for k, v in results.items()}\n",
    "results_std = {k : {k2 : np.std(v2) for k2, v2 in v.items()} for k, v in results.items()}\n",
    "results_all_mean = {**results_mean, **results_ext_mean}\n",
    "results_all_std = {**results_std, **results_ext_std}\n",
    "results_all_str = {k : {k2 : f'{v2:.3f} ± {results_all_std[k][k2]:.3f}' for k2, v2 in v.items()} for k, v in results_all_mean.items()}"
   ]
  },
  {
   "cell_type": "code",
   "execution_count": 5,
   "metadata": {},
   "outputs": [
    {
     "data": {
      "text/html": [
       "<div>\n",
       "<style scoped>\n",
       "    .dataframe tbody tr th:only-of-type {\n",
       "        vertical-align: middle;\n",
       "    }\n",
       "\n",
       "    .dataframe tbody tr th {\n",
       "        vertical-align: top;\n",
       "    }\n",
       "\n",
       "    .dataframe thead th {\n",
       "        text-align: right;\n",
       "    }\n",
       "</style>\n",
       "<table border=\"1\" class=\"dataframe\">\n",
       "  <thead>\n",
       "    <tr style=\"text-align: right;\">\n",
       "      <th></th>\n",
       "      <th>accuracy</th>\n",
       "      <th>auroc</th>\n",
       "      <th>auprc</th>\n",
       "      <th>time</th>\n",
       "    </tr>\n",
       "  </thead>\n",
       "  <tbody>\n",
       "    <tr>\n",
       "      <th>FCN</th>\n",
       "      <td>79.742 ± 1.087</td>\n",
       "      <td>85.842 ± 0.246</td>\n",
       "      <td>52.476 ± 0.893</td>\n",
       "      <td>NaN</td>\n",
       "    </tr>\n",
       "    <tr>\n",
       "      <th>FCNLS2T</th>\n",
       "      <td>84.358 ± 0.532</td>\n",
       "      <td>86.166 ± 0.346</td>\n",
       "      <td>53.893 ± 0.531</td>\n",
       "      <td>NaN</td>\n",
       "    </tr>\n",
       "    <tr>\n",
       "      <th>GRUD</th>\n",
       "      <td>80.000 ± 2.900</td>\n",
       "      <td>86.300 ± 0.300</td>\n",
       "      <td>53.700 ± 0.900</td>\n",
       "      <td>8.670 ± 0.490</td>\n",
       "    </tr>\n",
       "    <tr>\n",
       "      <th>GRUSimple</th>\n",
       "      <td>82.200 ± 0.200</td>\n",
       "      <td>80.800 ± 1.100</td>\n",
       "      <td>42.200 ± 0.600</td>\n",
       "      <td>30.000 ± 2.500</td>\n",
       "    </tr>\n",
       "    <tr>\n",
       "      <th>IPNets</th>\n",
       "      <td>79.400 ± 0.300</td>\n",
       "      <td>86.000 ± 0.200</td>\n",
       "      <td>51.000 ± 0.600</td>\n",
       "      <td>25.300 ± 1.800</td>\n",
       "    </tr>\n",
       "    <tr>\n",
       "      <th>PhasedLSTM</th>\n",
       "      <td>76.800 ± 5.200</td>\n",
       "      <td>79.000 ± 1.000</td>\n",
       "      <td>38.700 ± 1.500</td>\n",
       "      <td>44.600 ± 2.300</td>\n",
       "    </tr>\n",
       "    <tr>\n",
       "      <th>Transformer</th>\n",
       "      <td>83.700 ± 3.500</td>\n",
       "      <td>86.300 ± 0.800</td>\n",
       "      <td>52.800 ± 2.200</td>\n",
       "      <td>6.060 ± 0.060</td>\n",
       "    </tr>\n",
       "    <tr>\n",
       "      <th>LatentODE</th>\n",
       "      <td>76.000 ± 0.100</td>\n",
       "      <td>85.700 ± 0.600</td>\n",
       "      <td>50.700 ± 1.700</td>\n",
       "      <td>3500.000 ± nan</td>\n",
       "    </tr>\n",
       "    <tr>\n",
       "      <th>SeFTAttn</th>\n",
       "      <td>75.300 ± 3.500</td>\n",
       "      <td>85.100 ± 0.400</td>\n",
       "      <td>52.400 ± 1.100</td>\n",
       "      <td>7.620 ± 0.100</td>\n",
       "    </tr>\n",
       "  </tbody>\n",
       "</table>\n",
       "</div>"
      ],
      "text/plain": [
       "                   accuracy           auroc           auprc            time\n",
       "FCN          79.742 ± 1.087  85.842 ± 0.246  52.476 ± 0.893             NaN\n",
       "FCNLS2T      84.358 ± 0.532  86.166 ± 0.346  53.893 ± 0.531             NaN\n",
       "GRUD         80.000 ± 2.900  86.300 ± 0.300  53.700 ± 0.900   8.670 ± 0.490\n",
       "GRUSimple    82.200 ± 0.200  80.800 ± 1.100  42.200 ± 0.600  30.000 ± 2.500\n",
       "IPNets       79.400 ± 0.300  86.000 ± 0.200  51.000 ± 0.600  25.300 ± 1.800\n",
       "PhasedLSTM   76.800 ± 5.200  79.000 ± 1.000  38.700 ± 1.500  44.600 ± 2.300\n",
       "Transformer  83.700 ± 3.500  86.300 ± 0.800  52.800 ± 2.200   6.060 ± 0.060\n",
       "LatentODE    76.000 ± 0.100  85.700 ± 0.600  50.700 ± 1.700  3500.000 ± nan\n",
       "SeFTAttn     75.300 ± 3.500  85.100 ± 0.400  52.400 ± 1.100   7.620 ± 0.100"
      ]
     },
     "metadata": {},
     "output_type": "display_data"
    }
   ],
   "source": [
    "df = pd.DataFrame.from_dict(results_all_str).transpose()\n",
    "display(df)"
   ]
  }
 ],
 "metadata": {
  "kernelspec": {
   "display_name": "Python 3 (Havok2)",
   "language": "python",
   "name": "havok_env2"
  },
  "language_info": {
   "codemirror_mode": {
    "name": "ipython",
    "version": 3
   },
   "file_extension": ".py",
   "mimetype": "text/x-python",
   "name": "python",
   "nbconvert_exporter": "python",
   "pygments_lexer": "ipython3",
   "version": "3.7.9"
  },
  "widgets": {
   "application/vnd.jupyter.widget-state+json": {
    "state": {},
    "version_major": 2,
    "version_minor": 0
   }
  }
 },
 "nbformat": 4,
 "nbformat_minor": 4
}
